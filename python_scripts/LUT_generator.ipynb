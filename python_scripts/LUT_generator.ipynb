{
 "cells": [
  {
   "cell_type": "code",
   "execution_count": 2,
   "metadata": {},
   "outputs": [],
   "source": [
    "import itertools\n",
    "\n",
    "### Read files containing addresses and values\n",
    "# paths\n",
    "ADDR_FILE_PATH = \"../matlab/generated_data/LUT_ADDR_2x_6b__s_2i_3f.txt\"\n",
    "VALS_FILE_PATH = \"../matlab/generated_data/LUT_OUTPUT_16b_u_5i_11f.txt\"\n",
    "DEST_FILE_PATH = \"LUT_result.txt\"\n",
    "\n",
    "# actual reading\n",
    "addr_file = open(ADDR_FILE_PATH, \"r\")\n",
    "addresses = []\n",
    "for line in addr_file:\n",
    "    addresses.append(line[0:-1])\n",
    "addr_file.close()\n",
    "\n",
    "vals_file = open(VALS_FILE_PATH, \"r\")\n",
    "vals = []\n",
    "for line in vals_file:\n",
    "    vals.append(line[0:-1])\n",
    "vals_file.close()\n",
    "\n",
    "### Write data to LUT file\n",
    "# config constants\n",
    "ADDR_VAR_NAME = \"addr_combined\"\n",
    "OUT_SIG_NAME = \"data_o\"\n",
    "PROCESS_START = \"always_ff @(posedge clk) begin\\n\"\n",
    "CASE_START = f'\\tcase({ADDR_VAR_NAME})\\n'\n",
    "CASE_END = \"\\tendcase\\n\"\n",
    "PROCESS_END = \"end\\n\"\n",
    "ADDR_BITS = \"12\"\n",
    "ADDR_FORMAT = \"\\'b\"\n",
    "RESULT_BITS = \"16\"\n",
    "RESULT_FORMAT = \"\\'h\"\n",
    "\n",
    "# actual writing to file\n",
    "lut_file = open(DEST_FILE_PATH, \"w\")\n",
    "lut_file.write(PROCESS_START)\n",
    "lut_file.write(CASE_START)\n",
    "for av_obj in zip(addresses, vals):\n",
    "    lut_file.write(f'\\t\\t{ADDR_BITS}{ADDR_FORMAT}{av_obj[0]} : {OUT_SIG_NAME} <= {RESULT_BITS}{RESULT_FORMAT}{av_obj[1]};\\n')\n",
    "lut_file.write(CASE_END)\n",
    "lut_file.write(PROCESS_END)\n",
    "lut_file.close()"
   ]
  }
 ],
 "metadata": {
  "kernelspec": {
   "display_name": "Python 3",
   "language": "python",
   "name": "python3"
  },
  "language_info": {
   "codemirror_mode": {
    "name": "ipython",
    "version": 3
   },
   "file_extension": ".py",
   "mimetype": "text/x-python",
   "name": "python",
   "nbconvert_exporter": "python",
   "pygments_lexer": "ipython3",
   "version": "3.10.6"
  },
  "orig_nbformat": 4
 },
 "nbformat": 4,
 "nbformat_minor": 2
}
